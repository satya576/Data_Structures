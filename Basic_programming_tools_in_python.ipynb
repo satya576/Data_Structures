{
 "cells": [
  {
   "cell_type": "code",
   "execution_count": 43,
   "metadata": {
    "ExecuteTime": {
     "end_time": "2021-05-23T09:50:12.283984Z",
     "start_time": "2021-05-23T09:50:11.319687Z"
    }
   },
   "outputs": [],
   "source": [
    "#!jt -t grade3 -tf firacode -tfs 13 -mathfs 110 -fs 13 -N -T\n",
    "#!jt -r #reset the themes\n",
    "#!jt -t chesterish -tfs 14 -fs 20 -ofs 14\n",
    "#!jt -t oceans16 -tfs 14 -fs 20 -ofs 14\n",
    "#!jt -t monokai -tfs 14 -fs 20 -ofs 14\n",
    "!jt -t monokai -f fira -tfs 16 -fs 20 -ofs 14 -nf ptsans -nfs 11 -N -kl -cursw 2 -cursc r -cellw 95% -T"
   ]
  },
  {
   "cell_type": "code",
   "execution_count": 35,
   "metadata": {
    "ExecuteTime": {
     "end_time": "2021-05-23T08:55:55.401335Z",
     "start_time": "2021-05-23T08:55:55.395350Z"
    }
   },
   "outputs": [
    {
     "data": {
      "text/html": [
       "<style>.container { width:70% !important; }</style>"
      ],
      "text/plain": [
       "<IPython.core.display.HTML object>"
      ]
     },
     "metadata": {},
     "output_type": "display_data"
    }
   ],
   "source": [
    "from IPython.core.display import display, HTML\n",
    "display(HTML(\"<style>.container { width:70% !important; }</style>\"))"
   ]
  },
  {
   "cell_type": "markdown",
   "metadata": {},
   "source": [
    "# Basic programming tools in python\n",
    "The following are necessary to start our discussion on problem solving. Please get use with them by practicing in python. Rewrite the following by changing inputs and play around."
   ]
  },
  {
   "cell_type": "markdown",
   "metadata": {},
   "source": [
    "## Printing"
   ]
  },
  {
   "cell_type": "code",
   "execution_count": 1,
   "metadata": {},
   "outputs": [
    {
     "name": "stdout",
     "output_type": "stream",
     "text": [
      "Data Structures and Algorithms\n"
     ]
    }
   ],
   "source": [
    "print(\"Data Structures and Algorithms\")"
   ]
  },
  {
   "cell_type": "code",
   "execution_count": 2,
   "metadata": {},
   "outputs": [
    {
     "name": "stdout",
     "output_type": "stream",
     "text": [
      "The value of a is : 632\n",
      "The value of b is : 54\n",
      "The value of  632  -  54  is :  578\n"
     ]
    }
   ],
   "source": [
    "a = 632\n",
    "b = 54\n",
    "print(\"The value of a is :\", a)\n",
    "print(\"The value of b is :\", b)\n",
    "print(\"The value of \", a , \" - \", b, \" is : \", a-b)"
   ]
  },
  {
   "cell_type": "markdown",
   "metadata": {},
   "source": [
    "## Selections\n",
    "if, else, elif"
   ]
  },
  {
   "cell_type": "code",
   "execution_count": 3,
   "metadata": {},
   "outputs": [
    {
     "name": "stdout",
     "output_type": "stream",
     "text": [
      "100\n"
     ]
    }
   ],
   "source": [
    "a = 100\n",
    "b = 50\n",
    "if a > b:\n",
    "    print(a)\n",
    "else:\n",
    "    print(b)"
   ]
  },
  {
   "cell_type": "code",
   "execution_count": 4,
   "metadata": {},
   "outputs": [
    {
     "name": "stdout",
     "output_type": "stream",
     "text": [
      "50\n"
     ]
    }
   ],
   "source": [
    "a = 100\n",
    "b = 50\n",
    "if a > 200:\n",
    "    print(a)\n",
    "elif b < a:\n",
    "    print(b)"
   ]
  },
  {
   "cell_type": "code",
   "execution_count": 5,
   "metadata": {},
   "outputs": [
    {
     "name": "stdout",
     "output_type": "stream",
     "text": [
      "-1\n"
     ]
    }
   ],
   "source": [
    "a = 100\n",
    "b = 50\n",
    "if a > 200:\n",
    "    print(a)\n",
    "elif b == a:\n",
    "    print(b)\n",
    "else:\n",
    "    print(-1)"
   ]
  },
  {
   "cell_type": "markdown",
   "metadata": {},
   "source": [
    "## Loops\n",
    "while, for"
   ]
  },
  {
   "cell_type": "code",
   "execution_count": 6,
   "metadata": {},
   "outputs": [
    {
     "name": "stdout",
     "output_type": "stream",
     "text": [
      "1 Programming is fun!\n",
      "2 Programming is fun!\n",
      "3 Programming is fun!\n",
      "4 Programming is fun!\n"
     ]
    }
   ],
   "source": [
    "count = 1\n",
    "while count < 5:\n",
    "    print(count, \"Programming is fun!\")\n",
    "    count = count + 1"
   ]
  },
  {
   "cell_type": "code",
   "execution_count": 7,
   "metadata": {},
   "outputs": [
    {
     "name": "stdout",
     "output_type": "stream",
     "text": [
      "1 Programming is fun!\n",
      "2 Programming is fun!\n",
      "3 Programming is fun!\n",
      "4 Programming is fun!\n"
     ]
    }
   ],
   "source": [
    "for i in range(1, 5):\n",
    "    print(i, \"Programming is fun!\")"
   ]
  },
  {
   "cell_type": "code",
   "execution_count": 8,
   "metadata": {},
   "outputs": [
    {
     "name": "stdout",
     "output_type": "stream",
     "text": [
      "1\n",
      "3\n",
      "5\n",
      "7\n",
      "9\n"
     ]
    }
   ],
   "source": [
    "for i in range(1, 10, 2):\n",
    "    print(i)"
   ]
  },
  {
   "cell_type": "markdown",
   "metadata": {},
   "source": [
    "## Lists"
   ]
  },
  {
   "cell_type": "code",
   "execution_count": 9,
   "metadata": {},
   "outputs": [
    {
     "name": "stdout",
     "output_type": "stream",
     "text": [
      "[0, 1, 2, 3, 4]\n"
     ]
    }
   ],
   "source": [
    "numbers = []  #Create an Empty list\n",
    "n = 5\n",
    "for i in range(n):\n",
    "    numbers.append(i)  # add elements 0 to 4 into the list numbers.\n",
    "\n",
    "print(numbers)  # print the list"
   ]
  },
  {
   "cell_type": "markdown",
   "metadata": {},
   "source": [
    "## Functions"
   ]
  },
  {
   "cell_type": "code",
   "execution_count": 10,
   "metadata": {},
   "outputs": [
    {
     "name": "stdout",
     "output_type": "stream",
     "text": [
      "My Name is : ******\n"
     ]
    }
   ],
   "source": [
    "def getMyName():   # define function\n",
    "    name = \"******\"\n",
    "    return \"My Name is : \"+name\n",
    "\n",
    "\n",
    "print(getMyName())"
   ]
  },
  {
   "cell_type": "code",
   "execution_count": 11,
   "metadata": {},
   "outputs": [
    {
     "name": "stdout",
     "output_type": "stream",
     "text": [
      "64\n"
     ]
    }
   ],
   "source": [
    "def max(a,b):\n",
    "    if a > b:\n",
    "        return a\n",
    "    else:\n",
    "        return b\n",
    "\n",
    "print(max(64, -5))"
   ]
  },
  {
   "cell_type": "markdown",
   "metadata": {},
   "source": [
    "## Plotting"
   ]
  },
  {
   "cell_type": "code",
   "execution_count": 12,
   "metadata": {},
   "outputs": [
    {
     "data": {
      "text/plain": [
       "[<matplotlib.lines.Line2D at 0x28c03a715e0>]"
      ]
     },
     "execution_count": 12,
     "metadata": {},
     "output_type": "execute_result"
    },
    {
     "data": {
      "image/png": "[encoded data removed]",
      "text/plain": [
       "<Figure size 432x288 with 1 Axes>"
      ]
     },
     "metadata": {
      "needs_background": "light"
     },
     "output_type": "display_data"
    }
   ],
   "source": [
    "import matplotlib.pyplot as plt\n",
    "\n",
    "x = range(0,5)\n",
    "y = [-2,3,6,2,4]\n",
    "\n",
    "plt.plot(x,y)"
   ]
  },
  {
   "cell_type": "code",
   "execution_count": 13,
   "metadata": {},
   "outputs": [
    {
     "data": {
      "text/plain": [
       "[<matplotlib.lines.Line2D at 0x28c03db3e50>]"
      ]
     },
     "execution_count": 13,
     "metadata": {},
     "output_type": "execute_result"
    },
    {
     "data": {
      "image/png": "[encoded data removed]",
      "text/plain": [
       "<Figure size 432x288 with 1 Axes>"
      ]
     },
     "metadata": {
      "needs_background": "light"
     },
     "output_type": "display_data"
    }
   ],
   "source": [
    "import matplotlib.pyplot as plt\n",
    "\n",
    "x = range(0,5)\n",
    "y1 = [-2,3,6,2,4]\n",
    "y2 = [4,5,1,1.5,3]\n",
    "\n",
    "plt.plot(x,y1)\n",
    "plt.plot(x,y2)"
   ]
  },
  {
   "cell_type": "markdown",
   "metadata": {},
   "source": [
    "## Time"
   ]
  },
  {
   "cell_type": "code",
   "execution_count": 14,
   "metadata": {},
   "outputs": [
    {
     "name": "stdout",
     "output_type": "stream",
     "text": [
      "1621706281.9439058\n"
     ]
    }
   ],
   "source": [
    "import time\n",
    "t = time.time()  #seconds since the epoch, in UTC.\n",
    "print(t)"
   ]
  },
  {
   "cell_type": "code",
   "execution_count": 15,
   "metadata": {},
   "outputs": [
    {
     "name": "stdout",
     "output_type": "stream",
     "text": [
      "Time taken between t1 and t2 is :  3.9634904861450195 seconds\n"
     ]
    }
   ],
   "source": [
    "# time between two points in a program\n",
    "\n",
    "import time\n",
    "t1 = time.time()\n",
    "k = 1\n",
    "for i in range(50000000):\n",
    "    k = k*i\n",
    "t2 = time.time()\n",
    "print(\"Time taken between t1 and t2 is : \", (t2 - t1), \"seconds\")"
   ]
  }
 ],
 "metadata": {
  "kernelspec": {
   "display_name": "Python 3",
   "language": "python",
   "name": "python3"
  },
  "language_info": {
   "codemirror_mode": {
    "name": "ipython",
    "version": 3
   },
   "file_extension": ".py",
   "mimetype": "text/x-python",
   "name": "python",
   "nbconvert_exporter": "python",
   "pygments_lexer": "ipython3",
   "version": "3.8.5"
  },
  "latex_envs": {
   "LaTeX_envs_menu_present": true,
   "autoclose": false,
   "autocomplete": true,
   "bibliofile": "biblio.bib",
   "cite_by": "apalike",
   "current_citInitial": 1,
   "eqLabelWithNumbers": true,
   "eqNumInitial": 1,
   "hotkeys": {
    "equation": "Ctrl-E",
    "itemize": "Ctrl-I"
   },
   "labels_anchors": false,
   "latex_user_defs": false,
   "report_style_numbering": false,
   "user_envs_cfg": false
  },
  "toc": {
   "base_numbering": 1,
   "nav_menu": {
    "height": "453px",
    "width": "529px"
   },
   "number_sections": true,
   "sideBar": true,
   "skip_h1_title": false,
   "title_cell": "Table of Contents",
   "title_sidebar": "Contents",
   "toc_cell": false,
   "toc_position": {
    "height": "calc(100% - 180px)",
    "left": "10px",
    "top": "150px",
    "width": "262.2px"
   },
   "toc_section_display": true,
   "toc_window_display": true
  }
 },
 "nbformat": 4,
 "nbformat_minor": 4
}
