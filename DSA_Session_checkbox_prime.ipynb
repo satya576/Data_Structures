{
 "cells": [
  {
   "cell_type": "markdown",
   "id": "ca9d96d9-4858-41c5-9a53-27826dd8fd92",
   "metadata": {
    "tags": []
   },
   "source": [
    "### Prime numbers"
   ]
  },
  {
   "cell_type": "code",
   "execution_count": 2,
   "id": "4199d2a6-48ca-4691-8f1c-866f895c9f03",
   "metadata": {},
   "outputs": [],
   "source": [
    "#include<iostream>\n",
    "#include<cmath>\n",
    "using namespace std;"
   ]
  },
  {
   "cell_type": "code",
   "execution_count": 5,
   "id": "66dbd2a1-b8e7-4b05-b098-0241dc7fd8b7",
   "metadata": {},
   "outputs": [
    {
     "name": "stdout",
     "output_type": "stream",
     "text": [
      "2 3 5 7 11 13 17 19 23 29 31 37 41 43 47 53 59 61 67 71 73 79 83 89 97 "
     ]
    },
    {
     "data": {
      "text/plain": [
       "0"
      ]
     },
     "execution_count": 5,
     "metadata": {},
     "output_type": "execute_result"
    }
   ],
   "source": [
    "int main(){\n",
    "    int n = 100;\n",
    "    bool primes[n];\n",
    "    for(int i = 0 ; i < n ; i++)\n",
    "        primes[i] = true;\n",
    "    \n",
    "    int root_n = sqrt(n);\n",
    "    for(int k = 2 ; k <= root_n; k++)\n",
    "        if(primes[k])\n",
    "            for(int i = k ; i <= n/k ; i++)\n",
    "                primes[k*i] = false;\n",
    "    \n",
    "    for(int i = 2 ; i < n ; i++)\n",
    "        if(primes[i])\n",
    "            cout<<i<<\" \";\n",
    "return 0;\n",
    "}\n",
    "main()"
   ]
  },
  {
   "cell_type": "markdown",
   "id": "60efcdd4-8a7b-43f9-8da1-2891759f909b",
   "metadata": {},
   "source": [
    "## A problem on checker board"
   ]
  },
  {
   "cell_type": "code",
   "execution_count": 21,
   "id": "0033acfd-0881-44f8-9218-25abbb17b233",
   "metadata": {},
   "outputs": [],
   "source": [
    "#include<iostream>\n",
    "using namespace std;\n",
    "int m = 10;"
   ]
  },
  {
   "cell_type": "code",
   "execution_count": 22,
   "id": "b04a950b-d8b5-4183-a00f-4549acffa247",
   "metadata": {
    "tags": []
   },
   "outputs": [],
   "source": [
    "bool isValid(int k, int j, int *check_marks){\n",
    "    // for stright encounter\n",
    "    for(int i = 0 ; i < m ; i++){\n",
    "        if(check_marks[i] == j)\n",
    "            return false;\n",
    "    }\n",
    "    // for left diagonal\n",
    "    for(int row = k-1, col = j - 1 ; row >= 0 && col >= 0 ; row-- , col--){\n",
    "        if(check_marks[row] == col)\n",
    "            return false;\n",
    "    }\n",
    "    // for right diagonal\n",
    "    for(int row = k-1, col = j + 1 ; row >= 0 && col < m ; row-- , col++){\n",
    "        if(check_marks[row] == col)\n",
    "            return false;\n",
    "    }\n",
    "    return true;\n",
    "}"
   ]
  },
  {
   "cell_type": "code",
   "execution_count": 23,
   "id": "8226178a-2ca0-4434-9186-dc8bd4c99587",
   "metadata": {},
   "outputs": [],
   "source": [
    "int getPosition(int k, int *check_marks){\n",
    "    int start = check_marks[k] + 1;\n",
    "    \n",
    "    for(int j = start ; j < m ; j++){\n",
    "        if(isValid(k, j, check_marks))\n",
    "            return j;\n",
    "    }\n",
    "    return  -1;\n",
    "}"
   ]
  },
  {
   "cell_type": "code",
   "execution_count": 24,
   "id": "97dd4db7-4b96-40f2-babb-3df10e9b6dc1",
   "metadata": {
    "tags": []
   },
   "outputs": [],
   "source": [
    "int main(){\n",
    "    int check_marks[m];\n",
    "    for(int i = 0 ; i < m ; i++)\n",
    "        check_marks[i] = -1;\n",
    "    \n",
    "    check_marks[0] = 0;\n",
    "    int k = 1; // this is current row to place a check mark.\n",
    "    while(k >= 0 && k < m){\n",
    "        int j = getPosition(k, check_marks); // j = 0,1,2 ... m-1\n",
    "        if(j < 0){\n",
    "            check_marks[k] = -1;\n",
    "            k--;\n",
    "        }\n",
    "        else{\n",
    "            check_marks[k] = j;\n",
    "            k++;\n",
    "        }\n",
    "    }\n",
    "    \n",
    "    for(int i = 0 ; i<m ; i++)\n",
    "        cout<<check_marks[i]<<\" \";\n",
    "    cout<<\"\\n\";\n",
    "    \n",
    "    for(int i = 0 ; i < m ; i++){\n",
    "        for(int j = 0 ; j<m ; j++){\n",
    "            if(check_marks[i] == j)\n",
    "                cout<<\"|X\";\n",
    "            else\n",
    "                cout<<\"| \";\n",
    "        }\n",
    "        cout<<\"|\\n\";\n",
    "    }\n",
    "}"
   ]
  },
  {
   "cell_type": "code",
   "execution_count": 25,
   "id": "a3b48205-adcf-49d0-b8f4-83c85d1f3634",
   "metadata": {},
   "outputs": [
    {
     "name": "stdout",
     "output_type": "stream",
     "text": [
      "0 2 5 7 9 4 8 1 3 6 \n",
      "|X| | | | | | | | | |\n",
      "| | |X| | | | | | | |\n",
      "| | | | | |X| | | | |\n",
      "| | | | | | | |X| | |\n",
      "| | | | | | | | | |X|\n",
      "| | | | |X| | | | | |\n",
      "| | | | | | | | |X| |\n",
      "| |X| | | | | | | | |\n",
      "| | | |X| | | | | | |\n",
      "| | | | | | |X| | | |\n"
     ]
    },
    {
     "data": {
      "text/plain": [
       "0"
      ]
     },
     "execution_count": 25,
     "metadata": {},
     "output_type": "execute_result"
    }
   ],
   "source": [
    "main()"
   ]
  },
  {
   "cell_type": "code",
   "execution_count": null,
   "id": "999ca4fc-f507-412a-a4ad-006859f43ea4",
   "metadata": {},
   "outputs": [],
   "source": []
  }
 ],
 "metadata": {
  "kernelspec": {
   "display_name": "C++17",
   "language": "C++17",
   "name": "xcpp17"
  },
  "language_info": {
   "codemirror_mode": "text/x-c++src",
   "file_extension": ".cpp",
   "mimetype": "text/x-c++src",
   "name": "c++",
   "version": "17"
  }
 },
 "nbformat": 4,
 "nbformat_minor": 5
}
